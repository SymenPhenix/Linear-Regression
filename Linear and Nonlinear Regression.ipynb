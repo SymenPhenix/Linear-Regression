{
 "cells": [
  {
   "cell_type": "code",
   "execution_count": 2,
   "metadata": {},
   "outputs": [],
   "source": [
    "import numpy as np\n",
    "import pandas as pd\n",
    "import matplotlib.pyplot as plt\n",
    "from sklearn import linear_model\n",
    "from pandas_datareader import get_data_stooq as stock\n",
    "from datetime import datetime as date"
   ]
  },
  {
   "cell_type": "code",
   "execution_count": 24,
   "metadata": {},
   "outputs": [],
   "source": [
    "start = date(2020,4,1)\n",
    "end = date(2020,5,1)"
   ]
  },
  {
   "cell_type": "code",
   "execution_count": 25,
   "metadata": {},
   "outputs": [],
   "source": [
    "data = stock('aapl',start,end)"
   ]
  },
  {
   "cell_type": "code",
   "execution_count": 26,
   "metadata": {},
   "outputs": [
    {
     "data": {
      "text/html": [
       "<div>\n",
       "<style scoped>\n",
       "    .dataframe tbody tr th:only-of-type {\n",
       "        vertical-align: middle;\n",
       "    }\n",
       "\n",
       "    .dataframe tbody tr th {\n",
       "        vertical-align: top;\n",
       "    }\n",
       "\n",
       "    .dataframe thead th {\n",
       "        text-align: right;\n",
       "    }\n",
       "</style>\n",
       "<table border=\"1\" class=\"dataframe\">\n",
       "  <thead>\n",
       "    <tr style=\"text-align: right;\">\n",
       "      <th></th>\n",
       "      <th>Open</th>\n",
       "      <th>High</th>\n",
       "      <th>Low</th>\n",
       "      <th>Close</th>\n",
       "      <th>Volume</th>\n",
       "    </tr>\n",
       "    <tr>\n",
       "      <th>Date</th>\n",
       "      <th></th>\n",
       "      <th></th>\n",
       "      <th></th>\n",
       "      <th></th>\n",
       "      <th></th>\n",
       "    </tr>\n",
       "  </thead>\n",
       "  <tbody>\n",
       "    <tr>\n",
       "      <th>2020-05-01</th>\n",
       "      <td>70.787</td>\n",
       "      <td>73.936</td>\n",
       "      <td>70.687</td>\n",
       "      <td>71.482</td>\n",
       "      <td>243257642</td>\n",
       "    </tr>\n",
       "    <tr>\n",
       "      <th>2020-04-30</th>\n",
       "      <td>71.705</td>\n",
       "      <td>72.832</td>\n",
       "      <td>71.303</td>\n",
       "      <td>72.652</td>\n",
       "      <td>185073134</td>\n",
       "    </tr>\n",
       "    <tr>\n",
       "      <th>2020-04-29</th>\n",
       "      <td>70.409</td>\n",
       "      <td>71.632</td>\n",
       "      <td>70.201</td>\n",
       "      <td>71.150</td>\n",
       "      <td>138787574</td>\n",
       "    </tr>\n",
       "    <tr>\n",
       "      <th>2020-04-28</th>\n",
       "      <td>70.496</td>\n",
       "      <td>70.683</td>\n",
       "      <td>68.796</td>\n",
       "      <td>68.890</td>\n",
       "      <td>113234085</td>\n",
       "    </tr>\n",
       "    <tr>\n",
       "      <th>2020-04-27</th>\n",
       "      <td>69.684</td>\n",
       "      <td>70.363</td>\n",
       "      <td>69.226</td>\n",
       "      <td>70.025</td>\n",
       "      <td>118372696</td>\n",
       "    </tr>\n",
       "    <tr>\n",
       "      <th>2020-04-24</th>\n",
       "      <td>68.546</td>\n",
       "      <td>69.985</td>\n",
       "      <td>68.496</td>\n",
       "      <td>69.975</td>\n",
       "      <td>127897257</td>\n",
       "    </tr>\n",
       "    <tr>\n",
       "      <th>2020-04-23</th>\n",
       "      <td>68.220</td>\n",
       "      <td>69.672</td>\n",
       "      <td>67.972</td>\n",
       "      <td>68.012</td>\n",
       "      <td>126184256</td>\n",
       "    </tr>\n",
       "    <tr>\n",
       "      <th>2020-04-22</th>\n",
       "      <td>67.661</td>\n",
       "      <td>68.720</td>\n",
       "      <td>67.311</td>\n",
       "      <td>68.274</td>\n",
       "      <td>118342156</td>\n",
       "    </tr>\n",
       "    <tr>\n",
       "      <th>2020-04-21</th>\n",
       "      <td>68.320</td>\n",
       "      <td>68.558</td>\n",
       "      <td>65.636</td>\n",
       "      <td>66.366</td>\n",
       "      <td>182978085</td>\n",
       "    </tr>\n",
       "    <tr>\n",
       "      <th>2020-04-20</th>\n",
       "      <td>68.733</td>\n",
       "      <td>69.655</td>\n",
       "      <td>68.459</td>\n",
       "      <td>68.479</td>\n",
       "      <td>131442011</td>\n",
       "    </tr>\n",
       "    <tr>\n",
       "      <th>2020-04-17</th>\n",
       "      <td>70.399</td>\n",
       "      <td>70.956</td>\n",
       "      <td>68.461</td>\n",
       "      <td>69.932</td>\n",
       "      <td>217612439</td>\n",
       "    </tr>\n",
       "    <tr>\n",
       "      <th>2020-04-16</th>\n",
       "      <td>71.063</td>\n",
       "      <td>71.266</td>\n",
       "      <td>69.820</td>\n",
       "      <td>70.896</td>\n",
       "      <td>158849723</td>\n",
       "    </tr>\n",
       "    <tr>\n",
       "      <th>2020-04-15</th>\n",
       "      <td>69.832</td>\n",
       "      <td>70.807</td>\n",
       "      <td>69.396</td>\n",
       "      <td>70.336</td>\n",
       "      <td>132594080</td>\n",
       "    </tr>\n",
       "    <tr>\n",
       "      <th>2020-04-14</th>\n",
       "      <td>69.239</td>\n",
       "      <td>71.279</td>\n",
       "      <td>68.758</td>\n",
       "      <td>70.984</td>\n",
       "      <td>197134896</td>\n",
       "    </tr>\n",
       "    <tr>\n",
       "      <th>2020-04-13</th>\n",
       "      <td>66.352</td>\n",
       "      <td>67.684</td>\n",
       "      <td>65.735</td>\n",
       "      <td>67.571</td>\n",
       "      <td>132460994</td>\n",
       "    </tr>\n",
       "    <tr>\n",
       "      <th>2020-04-09</th>\n",
       "      <td>66.444</td>\n",
       "      <td>66.785</td>\n",
       "      <td>65.458</td>\n",
       "      <td>66.272</td>\n",
       "      <td>163895840</td>\n",
       "    </tr>\n",
       "    <tr>\n",
       "      <th>2020-04-08</th>\n",
       "      <td>64.972</td>\n",
       "      <td>66.117</td>\n",
       "      <td>64.596</td>\n",
       "      <td>65.794</td>\n",
       "      <td>170749034</td>\n",
       "    </tr>\n",
       "    <tr>\n",
       "      <th>2020-04-07</th>\n",
       "      <td>66.965</td>\n",
       "      <td>67.188</td>\n",
       "      <td>64.048</td>\n",
       "      <td>64.153</td>\n",
       "      <td>205114162</td>\n",
       "    </tr>\n",
       "    <tr>\n",
       "      <th>2020-04-06</th>\n",
       "      <td>62.042</td>\n",
       "      <td>65.063</td>\n",
       "      <td>61.669</td>\n",
       "      <td>64.906</td>\n",
       "      <td>204035409</td>\n",
       "    </tr>\n",
       "    <tr>\n",
       "      <th>2020-04-03</th>\n",
       "      <td>60.039</td>\n",
       "      <td>60.760</td>\n",
       "      <td>59.094</td>\n",
       "      <td>59.699</td>\n",
       "      <td>131305599</td>\n",
       "    </tr>\n",
       "    <tr>\n",
       "      <th>2020-04-02</th>\n",
       "      <td>59.433</td>\n",
       "      <td>60.622</td>\n",
       "      <td>58.580</td>\n",
       "      <td>60.568</td>\n",
       "      <td>167755217</td>\n",
       "    </tr>\n",
       "    <tr>\n",
       "      <th>2020-04-01</th>\n",
       "      <td>60.956</td>\n",
       "      <td>61.504</td>\n",
       "      <td>59.131</td>\n",
       "      <td>59.576</td>\n",
       "      <td>178152678</td>\n",
       "    </tr>\n",
       "  </tbody>\n",
       "</table>\n",
       "</div>"
      ],
      "text/plain": [
       "              Open    High     Low   Close     Volume\n",
       "Date                                                 \n",
       "2020-05-01  70.787  73.936  70.687  71.482  243257642\n",
       "2020-04-30  71.705  72.832  71.303  72.652  185073134\n",
       "2020-04-29  70.409  71.632  70.201  71.150  138787574\n",
       "2020-04-28  70.496  70.683  68.796  68.890  113234085\n",
       "2020-04-27  69.684  70.363  69.226  70.025  118372696\n",
       "2020-04-24  68.546  69.985  68.496  69.975  127897257\n",
       "2020-04-23  68.220  69.672  67.972  68.012  126184256\n",
       "2020-04-22  67.661  68.720  67.311  68.274  118342156\n",
       "2020-04-21  68.320  68.558  65.636  66.366  182978085\n",
       "2020-04-20  68.733  69.655  68.459  68.479  131442011\n",
       "2020-04-17  70.399  70.956  68.461  69.932  217612439\n",
       "2020-04-16  71.063  71.266  69.820  70.896  158849723\n",
       "2020-04-15  69.832  70.807  69.396  70.336  132594080\n",
       "2020-04-14  69.239  71.279  68.758  70.984  197134896\n",
       "2020-04-13  66.352  67.684  65.735  67.571  132460994\n",
       "2020-04-09  66.444  66.785  65.458  66.272  163895840\n",
       "2020-04-08  64.972  66.117  64.596  65.794  170749034\n",
       "2020-04-07  66.965  67.188  64.048  64.153  205114162\n",
       "2020-04-06  62.042  65.063  61.669  64.906  204035409\n",
       "2020-04-03  60.039  60.760  59.094  59.699  131305599\n",
       "2020-04-02  59.433  60.622  58.580  60.568  167755217\n",
       "2020-04-01  60.956  61.504  59.131  59.576  178152678"
      ]
     },
     "execution_count": 26,
     "metadata": {},
     "output_type": "execute_result"
    }
   ],
   "source": [
    "data"
   ]
  },
  {
   "cell_type": "code",
   "execution_count": 27,
   "metadata": {},
   "outputs": [
    {
     "data": {
      "image/png": "[encoded data removed]",
      "text/plain": [
       "<Figure size 432x288 with 1 Axes>"
      ]
     },
     "metadata": {
      "needs_background": "light"
     },
     "output_type": "display_data"
    }
   ],
   "source": [
    "data.plot(kind='scatter',x='Open',y='Close')\n",
    "plt.show()"
   ]
  },
  {
   "cell_type": "code",
   "execution_count": 28,
   "metadata": {},
   "outputs": [
    {
     "data": {
      "text/html": [
       "<div>\n",
       "<style scoped>\n",
       "    .dataframe tbody tr th:only-of-type {\n",
       "        vertical-align: middle;\n",
       "    }\n",
       "\n",
       "    .dataframe tbody tr th {\n",
       "        vertical-align: top;\n",
       "    }\n",
       "\n",
       "    .dataframe thead th {\n",
       "        text-align: right;\n",
       "    }\n",
       "</style>\n",
       "<table border=\"1\" class=\"dataframe\">\n",
       "  <thead>\n",
       "    <tr style=\"text-align: right;\">\n",
       "      <th></th>\n",
       "      <th>Open</th>\n",
       "      <th>High</th>\n",
       "      <th>Low</th>\n",
       "      <th>Close</th>\n",
       "      <th>Volume</th>\n",
       "    </tr>\n",
       "  </thead>\n",
       "  <tbody>\n",
       "    <tr>\n",
       "      <th>Open</th>\n",
       "      <td>1.000000</td>\n",
       "      <td>0.976206</td>\n",
       "      <td>0.977015</td>\n",
       "      <td>0.940411</td>\n",
       "      <td>-0.020720</td>\n",
       "    </tr>\n",
       "    <tr>\n",
       "      <th>High</th>\n",
       "      <td>0.976206</td>\n",
       "      <td>1.000000</td>\n",
       "      <td>0.983459</td>\n",
       "      <td>0.972756</td>\n",
       "      <td>0.062226</td>\n",
       "    </tr>\n",
       "    <tr>\n",
       "      <th>Low</th>\n",
       "      <td>0.977015</td>\n",
       "      <td>0.983459</td>\n",
       "      <td>1.000000</td>\n",
       "      <td>0.979214</td>\n",
       "      <td>-0.083211</td>\n",
       "    </tr>\n",
       "    <tr>\n",
       "      <th>Close</th>\n",
       "      <td>0.940411</td>\n",
       "      <td>0.972756</td>\n",
       "      <td>0.979214</td>\n",
       "      <td>1.000000</td>\n",
       "      <td>-0.015958</td>\n",
       "    </tr>\n",
       "    <tr>\n",
       "      <th>Volume</th>\n",
       "      <td>-0.020720</td>\n",
       "      <td>0.062226</td>\n",
       "      <td>-0.083211</td>\n",
       "      <td>-0.015958</td>\n",
       "      <td>1.000000</td>\n",
       "    </tr>\n",
       "  </tbody>\n",
       "</table>\n",
       "</div>"
      ],
      "text/plain": [
       "            Open      High       Low     Close    Volume\n",
       "Open    1.000000  0.976206  0.977015  0.940411 -0.020720\n",
       "High    0.976206  1.000000  0.983459  0.972756  0.062226\n",
       "Low     0.977015  0.983459  1.000000  0.979214 -0.083211\n",
       "Close   0.940411  0.972756  0.979214  1.000000 -0.015958\n",
       "Volume -0.020720  0.062226 -0.083211 -0.015958  1.000000"
      ]
     },
     "execution_count": 28,
     "metadata": {},
     "output_type": "execute_result"
    }
   ],
   "source": [
    "data.corr()"
   ]
  },
  {
   "cell_type": "code",
   "execution_count": 32,
   "metadata": {},
   "outputs": [],
   "source": [
    "Open=pd.DataFrame(data['Open'])\n",
    "Close=pd.DataFrame(data['Close'])"
   ]
  },
  {
   "cell_type": "code",
   "execution_count": 35,
   "metadata": {},
   "outputs": [],
   "source": [
    "lm=linear_model.LinearRegression()\n",
    "model=lm.fit(Open,Close)"
   ]
  },
  {
   "cell_type": "code",
   "execution_count": 36,
   "metadata": {},
   "outputs": [
    {
     "data": {
      "text/plain": [
       "array([[0.97060629]])"
      ]
     },
     "execution_count": 36,
     "metadata": {},
     "output_type": "execute_result"
    }
   ],
   "source": [
    "model.coef_"
   ]
  },
  {
   "cell_type": "code",
   "execution_count": 37,
   "metadata": {},
   "outputs": [
    {
     "data": {
      "text/plain": [
       "array([2.1484183])"
      ]
     },
     "execution_count": 37,
     "metadata": {},
     "output_type": "execute_result"
    }
   ],
   "source": [
    "model.intercept_"
   ]
  },
  {
   "cell_type": "code",
   "execution_count": 50,
   "metadata": {},
   "outputs": [
    {
     "data": {
      "image/png": "[encoded data removed]",
      "text/plain": [
       "<Figure size 432x288 with 1 Axes>"
      ]
     },
     "metadata": {
      "needs_background": "light"
     },
     "output_type": "display_data"
    }
   ],
   "source": [
    "data.plot(kind='scatter',x='Open',y='Close')\n",
    "plt.plot(Open,model.predict(Open),color='red')\n",
    "plt.show()"
   ]
  },
  {
   "cell_type": "code",
   "execution_count": null,
   "metadata": {},
   "outputs": [],
   "source": []
  }
 ],
 "metadata": {
  "kernelspec": {
   "display_name": "Python 3",
   "language": "python",
   "name": "python3"
  },
  "language_info": {
   "codemirror_mode": {
    "name": "ipython",
    "version": 3
   },
   "file_extension": ".py",
   "mimetype": "text/x-python",
   "name": "python",
   "nbconvert_exporter": "python",
   "pygments_lexer": "ipython3",
   "version": "3.8.3"
  }
 },
 "nbformat": 4,
 "nbformat_minor": 4
}
